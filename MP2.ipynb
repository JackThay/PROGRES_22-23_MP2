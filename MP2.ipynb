{
 "cells": [
  {
   "cell_type": "markdown",
   "id": "c377ba8a",
   "metadata": {},
   "source": [
    "# PROGRES - Mini-Projet 2 \n",
    "# API Web \n",
    "\n",
    "Fabien Mathieu - fabien.mathieu@normalesup.org\n",
    "\n",
    "Sébastien Tixeuil - Sebastien.Tixeuil@lip6.fr\n",
    "\n",
    "## Etudiants:\n",
    "\n",
    "- Thierry Ung\n",
    "\n",
    "- Jack Thay"
   ]
  },
  {
   "cell_type": "markdown",
   "id": "0531b03a",
   "metadata": {},
   "source": [
    "Le but de ce mini-projet est d'utiliser (entre autres) la bibliothèque Python bottle, pour \n",
    "proposer d’une part une API spécifique au site http://dblp.uni-trier.de/ qui \n",
    "regroupe l'ensemble des publications scientifiques en informatique, et d’autre part un site web \n",
    "qui permet d’utiliser l’API précédente. "
   ]
  },
  {
   "cell_type": "markdown",
   "id": "c65634e1",
   "metadata": {},
   "source": [
    "Le site dblp propose l'ensemble des publications sous la forme d'un fichier Xml. Il faut donc \n",
    "télécharger ce fichier et utiliser les données qu'il contient afin de créer votre API. Dans la suite, \n",
    "on appelle publication, un élément de type `article`, `inproceedings`, `proceedings`, \n",
    "`book`, `incollection`, `phdthesis`, ou `mastersthesis`."
   ]
  },
  {
   "cell_type": "markdown",
   "id": "37e92f7e",
   "metadata": {},
   "source": [
    "Le fichier Xml se trouve à l'adresse http://dblp.uni-trier.de/xml/. Il doit être analysé \n",
    "pour récupérer chaque publication (quel que soit son type). L’API demandée porte seulement \n",
    "sur les champs `author`, `title`, `year`, `journal`, et `booktitle` (les autres champs \n",
    "peuvent donc être ignorés). On peut remarquer que pour une publication, soit le champ \n",
    "`journal`, soit le champ `booktitle` est défini (`booktitle` correspond au nom de la \n",
    "conférence dans laquelle est publié l’article, `journal` correspond à la revue scientifique dans \n",
    "laquelle est publié l’article)."
   ]
  },
  {
   "cell_type": "markdown",
   "id": "171094fb",
   "metadata": {},
   "source": [
    "Note: En raison de la quantité limitée de mémoire RAM disponible sur certains ordinateurs, il \n",
    "est possible de ne considérer que les publications des 5 dernières années (voire moins, mais \n",
    "ce paramètre doit pouvoir être modifié dans le code source)."
   ]
  },
  {
   "cell_type": "markdown",
   "id": "4e56c23b",
   "metadata": {},
   "source": [
    "**RAPPEL :** stackoverflow est votre ami... **Mais** si vous utilisez quelque chose que vous trouvez sur Internet, vous devez citer votre source **ET** ajouter des explications. Ne copiez pas des blocs de code entiers sans comprendre, sans expliquer, sans citer."
   ]
  },
  {
   "cell_type": "markdown",
   "id": "8dc481ff",
   "metadata": {},
   "source": [
    "# Exercice 1. Mise à disposition d’une API Web "
   ]
  },
  {
   "cell_type": "markdown",
   "id": "7f7e5948",
   "metadata": {},
   "source": [
    "Réaliser en Python et en utilisant la bibliothèque bottle un serveur Web qui implémente l’API \n",
    "Web suivante :\n",
    "- `/publications/{id}` : avec `id` l'identifiant d'une publication (à vous de choisir quels \n",
    "sont les identifiants), qui retourne la publication correspondante.\n",
    "- `/publications` : qui retourne par défaut les 100 premières publications. La valeur 100 \n",
    "peut être modifiée au moyen d’un paramètre d'url `limit`).\n",
    "- `/authors/{name}` : avec `name` le nom d'un auteur, qui retourne des informations \n",
    "concernant un auteur : nombres de publications dont il est co-auteur, nombre de co-auteurs.\n",
    "- `/authors/{name}/publications` : avec `name` le nom d'un auteur, qui liste les \n",
    "publications d'un auteur.\n",
    "- `/authors/{name}/coauthors` : avec `name` le nom d'un auteur, qui liste les co-auteurs \n",
    "d'un auteur.\n",
    "- `/search/authors/{searchString}` : avec `searchString` une chaine de caractères \n",
    "permettant de chercher un auteur. Cette route retourne la liste des auteurs dont le nom \n",
    "contient `searchString` (par exemple, /search/authors/w retourne la liste de tous les \n",
    "auteurs dont le nom contient un `w` ou un `W`). \n",
    "- `/search/publications/{searchString}`: avec `searchString` une chaine de \n",
    "caractères et qui retourne la liste des publications dont le titre contient `searchString`. La \n",
    "route accepte un paramètre d'url `filter` de la forme `key1:value1,key2:value2,...` \n",
    "afin d'affiner la recherche aux publications dont la clef `keyi` contient `valuei`. Ainsi, la \n",
    "recherche `/search/publications/robots?filter=author:Jean,journal:acm` \n",
    "doit retourner la liste des publications dont le titre contient `robots`, dont l'auteur contient \n",
    "`Jean` et publiées dans un journal contenant `acm`.\n",
    "- `/authors/{name_origin}/distance/{name_destination}` : avec `name_origin` \n",
    "et `name_destination` deux noms d’auteurs, qui retourne la distance de collaboration \n",
    "entre les deux auteurs nommés. Cette distance est définie comme la longueur du plus petit \n",
    "chemin `(name_origin, auth1, auth2, ..., authX, name_destination)`, où \n",
    "`name_origine` et `auth1` sont co-auteurs, `auth1` et `auth2` sont co-auteurs, ... et \n",
    "`authX` et `name_destination` sont co-auteurs. En particulier deux co-auteurs sont à \n",
    "distance 1. En plus de retourner la distance, la réponse doit contenir un plus court chemin \n",
    "entre les deux auteurs."
   ]
  },
  {
   "cell_type": "code",
   "execution_count": 7,
   "id": "86810dd4",
   "metadata": {},
   "outputs": [
    {
     "name": "stdout",
     "output_type": "stream",
     "text": [
      "Overwriting run_test.py\n"
     ]
    }
   ],
   "source": [
    "%%writefile run_test.py\n",
    "'''\n",
    "Created on November 20, 2022\n",
    "\n",
    "@author: Thierry Ung, Jack Thay\n",
    "\n",
    "Exercice 1 from MP2\n",
    "'''\n",
    "from bottle import *\n",
    "from re import *\n",
    "import xml.etree.ElementTree as ET\n",
    "from lxml import etree as ET\n",
    "from xml.etree import cElementTree as CET # Element Tree written in C\n",
    "from collections import OrderedDict\n",
    "\n",
    "\n",
    "# XML file is really heavy, from the different computers we used for coding,\n",
    "# only one was able to load dblp.xml and execute the code properly\n",
    "# file_name = \"dblp.xml\"\n",
    "\n",
    "# dblp0.xml is a lighter xml file, so that we can ACTUALLY both code using our own computers.\n",
    "file_name = \"dblp0.xml\"\n",
    "\n",
    "p = ET.XMLParser(recover=True)\n",
    "root = CET.parse(file_name, parser=p).getroot()\n",
    "\n",
    "\n",
    "@route('/publications/<id>', method=\"GET\")\n",
    "def publications_id(id):\n",
    "\tcounter = 0\n",
    "\tinfo = ''\n",
    "\n",
    "\tfor i in root.iter('title'):\n",
    "\t\tif i.text == id:\n",
    "\t\t\tfor j in root[counter]:\n",
    "\t\t\t\tinfo += str(j.tag) + \": \" + str(j.text) + \"<br/>\"\n",
    "\t\t\tinfo += '------------------------------------------------------------'+ \"<br/>\"\n",
    "\t\t\treturn info\n",
    "\t\tcounter += 1\n",
    "\n",
    "\tabort(404, \"Not found: '/publications/\" + id + \"'\")\n",
    "\n",
    "\n",
    "@route('/publications/',  method=\"GET\")\n",
    "def publications():\n",
    "\tlimit = request.query.limit\n",
    "\tstart = request.query.start\n",
    "\tcount = request.query.count\n",
    "\torder = request.query.order\n",
    "\n",
    "\tif limit == \"\":\n",
    "\t\tlimit = 100\n",
    "\tif start == \"\":\n",
    "\t\tstart = 0\n",
    "\tif count != \"\" and int(count) <= 100:\n",
    "\t\tlimit = count\n",
    "\t\n",
    "\tinfo = \"\"\n",
    "\tpublications = []\n",
    "\tdico = {}\n",
    "\n",
    "\tif order != \"\":\n",
    "\t\tfor i in range(int(start), int(start) + int(limit)):\n",
    "\t\t\tfor j in root[i]:\n",
    "\t\t\t\tif j.tag == 'title':\n",
    "\t\t\t\t\ttitre = j.text\n",
    "\t\t\t\t\tfor k in root[i]:\n",
    "\t\t\t\t\t\tif k.tag == order:\n",
    "\t\t\t\t\t\t\tdico[titre] = k.text\n",
    "\telse:\n",
    "\t\tfor i in range(int(start), int(start) + int(limit)):\n",
    "\t\t\tfor j in root[i]:\n",
    "\t\t\t\tinfo += str(j.tag) + \": \" + str(j.text) + \"<br/>\"\n",
    "\t\t\tinfo += '------------------------------------------------------------'+ \"<br/>\"\n",
    "\n",
    "\tif len(dico) != 0:\n",
    "\t\tdico_sorted = OrderedDict(sorted(dico.items(), key = lambda t: t[1]))\n",
    "\t\tfor keys in dico_sorted:\n",
    "\t\t\tpublications.append(keys)\n",
    "\t\tfor infos in publications:\n",
    "\t\t\tinfo += publications_id(infos)\n",
    "\n",
    "\treturn info\n",
    "\n",
    "run(host='localhost', port=8080, debug = True)\n"
   ]
  },
  {
   "cell_type": "code",
   "execution_count": null,
   "id": "28762f30",
   "metadata": {},
   "outputs": [],
   "source": [
    "!wt python run_test.py"
   ]
  },
  {
   "cell_type": "markdown",
   "id": "42e95c32",
   "metadata": {},
   "source": [
    "L’API ainsi développée doit présenter les caractéristiques suivantes :\n",
    "- Toutes les erreurs doivent avoir le même format.\n",
    "- Chaque route doit être documentée, avec le format de retour, les erreurs possibles et une \n",
    "explications des paramètres.\n",
    "- Chaque route qui retourne une liste, doit retourner au maximum 100 éléments et accepter \n",
    "des paramètre d'URL `start` et `count` qui permettent d'afficher `count` éléments, à partir \n",
    "du `start`-ième élément. Par exemple: `/search/authors/*` doit retourner les 100 \n",
    "premiers auteurs, `/search/authors/*?start=100` affiche les 100 suivants, et `/\n",
    "search/authors/*?start=200&count=2` affiche les 2 éléments suivants.\n",
    "- Pour chaque route qui retourne une liste, les éléments retournés doivent pouvoir être triés \n",
    "par rapport à un champ donné dans un paramètre d'URL `order`. Par exemple: `/search/\n",
    "publications/*?order=journal` affiche les 100 premières publications triées dans \n",
    "l'ordre alphabétique du nom du journal dans lequel elles apparaissent."
   ]
  },
  {
   "cell_type": "markdown",
   "id": "e1e29ad3",
   "metadata": {},
   "source": [
    "# Exercice 2. Test unitaire d’une API Web "
   ]
  },
  {
   "cell_type": "markdown",
   "id": "a7110e2c",
   "metadata": {},
   "source": [
    "Réaliser en Python et en utilisant au choix la bibliothèque unittest ou la bibliothèque pytest un programme qui teste le bon \n",
    "fonctionnement de l'API Web développée à l'exercice 1."
   ]
  },
  {
   "cell_type": "code",
   "execution_count": 5,
   "id": "1996cdaa",
   "metadata": {},
   "outputs": [
    {
     "name": "stdout",
     "output_type": "stream",
     "text": [
      "Overwriting test_file.py\n"
     ]
    }
   ],
   "source": [
    "%%writefile test_file.py\n",
    "'''\n",
    "Created on November 22, 2022\n",
    "\n",
    "@author: Thierry Ung, Jack Thay\n",
    "\n",
    "Exercice 2 from MP2\n",
    "'''\n",
    "from requests import *\n",
    "from json import *\n",
    "import pytest\n",
    "\n",
    "\n",
    "server_ip = \"localhost\"\n",
    "server_port = 8080\n",
    "\n",
    "## Tests for publications ##\n",
    "\n",
    "'''\n",
    "Test if the API is actually running\n",
    "'''\n",
    "def test_publications_not_404():\n",
    "    r = get(f\"http://{server_ip}:{server_port}/publications/\")\n",
    "    '''\n",
    "    assert r.text != None\n",
    "    \"r.text != Note\" is too easy for a test, r.text will never be empty, even if error 404\n",
    "    '''\n",
    "    condition = \"author\" # because the 6 first character from r.text should theorically be \"author\"\n",
    "    condition2 = \"title\"\n",
    "    assert r.text[:6] == condition or condition2\n",
    "\n",
    "'''\n",
    "Test if the \"?limit=X\" feature work\n",
    "'''\n",
    "def test_publications_limit():\n",
    "    r = get(f\"http://{server_ip}:{server_port}/publications/?limit=5\")\n",
    "    condition = \"author\"\n",
    "    assert r.text[:6] == condition\n",
    "\n",
    "'''\n",
    "Test if the \"?start=X\" feature work\n",
    "'''\n",
    "def test_publications_start():\n",
    "    r = get(f\"http://{server_ip}:{server_port}/publications/?start=2\")\n",
    "    condition = \"author\"\n",
    "    condition2 = \"title:\" # There might be a possibility the first 6 letters are \"title:\"\n",
    "    assert r.text[:6] == condition or condition2\n",
    "\n",
    "'''\n",
    "Test if the \"?order=X\" feature work\n",
    "'''\n",
    "def test_publications_order():\n",
    "    r = get(f\"http://{server_ip}:{server_port}/publications/?order=journal\")\n",
    "    condition = \"author\"\n",
    "    condition2 = \"title:\" # There might be a possibility the first 6 letters are \"title:\"\n",
    "    assert r.text[:6] == condition or condition2\n",
    "\n",
    "'''\n",
    "1st test for a given title\n",
    "Title used : Spectre Attacks: Exploiting Speculative Execution.\n",
    "'''\n",
    "def test_publications_id1():\n",
    "    r = get(f\"http://{server_ip}:{server_port}/publications/Spectre Attacks: Exploiting Speculative Execution.\")\n",
    "    condition = \"author: Paul Kocher<br/>author: Daniel Genkin<br/>author: Daniel Gruss<br/>author: Werner Haas 0004<br/>author: Mike Hamburg<br/>author: Moritz Lipp<br/>author: Stefan Mangard<br/>author: Thomas Prescher 0002<br/>author: Michael Schwarz 0001<br/>author: Yuval Yarom<br/>title: Spectre Attacks: Exploiting Speculative Execution.<br/>journal: meltdownattack.com<br/>year: 2018<br/>ee: https://spectreattack.com/spectre.pdf<br/>------------------------------------------------------------<br/>\"\n",
    "    assert r.text == condition\n",
    "    #assert loads(r.text) == (\"author: Paul Kocher<br/>author: Daniel Genkin<br/>author: Daniel Gruss<br/>author: Werner Haas 0004<br/>author: Mike Hamburg<br/>author: Moritz Lipp<br/>author: Stefan Mangard<br/>author: Thomas Prescher 0002<br/>author: Michael Schwarz 0001<br/>author: Yuval Yarom<br/>title: Spectre Attacks: Exploiting Speculative Execution.<br/>journal: meltdownattack.com<br/>year: 2018<br/>ee: https://spectreattack.com/spectre.pdf<br/>\")\n",
    "\n",
    "'''\n",
    "2nd test for a given title\n",
    "Title used : Meltdown\n",
    "'''\n",
    "def test_publications_id2():\n",
    "    r = get(f\"http://{server_ip}:{server_port}/publications/Meltdown\")\n",
    "    condition = \"author: Moritz Lipp<br/>author: Michael Schwarz 0001<br/>author: Daniel Gruss<br/>author: Thomas Prescher 0002<br/>author: Werner Haas 0004<br/>author: Stefan Mangard<br/>author: Paul Kocher<br/>author: Daniel Genkin<br/>author: Yuval Yarom<br/>author: Mike Hamburg<br/>title: Meltdown<br/>journal: meltdownattack.com<br/>ee: https://meltdownattack.com/meltdown.pdf<br/>year: 2018<br/>------------------------------------------------------------<br/>\"\n",
    "    print(r.text)\n",
    "    assert r.text == condition\n",
    "\n",
    "'''\n",
    "3rd test for a given title\n",
    "Title used : An Evaluation of Object-Oriented DBMS Developments: 1994 Edition.\n",
    "'''\n",
    "def test_publications_id3():\n",
    "    r = get(f\"http://{server_ip}:{server_port}/publications/An Evaluation of Object-Oriented DBMS Developments: 1994 Edition.\")\n",
    "    condition = \"author: Frank Manola<br/>title: An Evaluation of Object-Oriented DBMS Developments: 1994 Edition.<br/>journal: GTE Laboratories Incorporated<br/>volume: TR-0263-08-94-165<br/>month: August<br/>year: 1994<br/>url: db/journals/gtelab/index.html#TR-0263-08-94-165<br/>------------------------------------------------------------<br/>\"\n",
    "    print(r.text)\n",
    "    assert r.text == condition"
   ]
  },
  {
   "cell_type": "code",
   "execution_count": null,
   "id": "8f92700c",
   "metadata": {},
   "outputs": [],
   "source": [
    "!python -m pytest test_file.py"
   ]
  },
  {
   "cell_type": "markdown",
   "id": "2aa006cb",
   "metadata": {},
   "source": [
    "# Exercice 3. Site Web d’utilisation d’une API Web "
   ]
  },
  {
   "cell_type": "markdown",
   "id": "35e03c10",
   "metadata": {},
   "source": [
    "Réaliser en Python et en utilisant la bibliothèque bottle un serveur Web qui utilise l’API Web \n",
    "développée à l’exercice 1 pour proposer à l’utilisateur une interface Web graphique qui lui \n",
    "permette d’obtenir en entrant les informations pertinentes dans un formulaire Web : \n",
    "- la liste complète des publications et la liste complète des coauteurs d’un auteur, possiblement \n",
    "triées alphabétiquement. Cet auteur peut au préalable être recherché via une sous-séquence \n",
    "de caractères apparaissant dans son nom. \n",
    "- La distance entre deux auteurs. Ces auteurs peuvent au préalable être recherchés chacun \n",
    "via une sous-séquence de caractères apparaissant dans leur nom."
   ]
  }
 ],
 "metadata": {
  "kernelspec": {
   "display_name": "Python 3 (ipykernel)",
   "language": "python",
   "name": "python3"
  },
  "language_info": {
   "codemirror_mode": {
    "name": "ipython",
    "version": 3
   },
   "file_extension": ".py",
   "mimetype": "text/x-python",
   "name": "python",
   "nbconvert_exporter": "python",
   "pygments_lexer": "ipython3",
   "version": "3.7.11"
  },
  "toc": {
   "base_numbering": 1,
   "nav_menu": {},
   "number_sections": true,
   "sideBar": true,
   "skip_h1_title": true,
   "title_cell": "Table of Contents",
   "title_sidebar": "Contents",
   "toc_cell": false,
   "toc_position": {},
   "toc_section_display": true,
   "toc_window_display": false
  },
  "vscode": {
   "interpreter": {
    "hash": "0c3b3ae0f6df17c733c7979596f34d78fff64555f6bf0079b0bbdb12a77dfc3f"
   }
  }
 },
 "nbformat": 4,
 "nbformat_minor": 5
}
