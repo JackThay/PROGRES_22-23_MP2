{
 "cells": [
  {
   "cell_type": "markdown",
   "id": "c377ba8a",
   "metadata": {},
   "source": [
    "# PROGRES - Mini-Projet 2 \n",
    "# API Web \n",
    "\n",
    "Fabien Mathieu - fabien.mathieu@normalesup.org\n",
    "\n",
    "Sébastien Tixeuil - Sebastien.Tixeuil@lip6.fr"
   ]
  },
  {
   "cell_type": "markdown",
   "id": "0531b03a",
   "metadata": {},
   "source": [
    "Le but de ce mini-projet est d'utiliser (entre autres) la bibliothèque Python bottle, pour \n",
    "proposer d’une part une API spécifique au site http://dblp.uni-trier.de/ qui \n",
    "regroupe l'ensemble des publications scientifiques en informatique, et d’autre part un site web \n",
    "qui permet d’utiliser l’API précédente. "
   ]
  },
  {
   "cell_type": "markdown",
   "id": "c65634e1",
   "metadata": {},
   "source": [
    "Le site dblp propose l'ensemble des publications sous la forme d'un fichier Xml. Il faut donc \n",
    "télécharger ce fichier et utiliser les données qu'il contient afin de créer votre API. Dans la suite, \n",
    "on appelle publication, un élément de type `article`, `inproceedings`, `proceedings`, \n",
    "`book`, `incollection`, `phdthesis`, ou `mastersthesis`."
   ]
  },
  {
   "cell_type": "markdown",
   "id": "37e92f7e",
   "metadata": {},
   "source": [
    "Le fichier Xml se trouve à l'adresse http://dblp.uni-trier.de/xml/. Il doit être analysé \n",
    "pour récupérer chaque publication (quel que soit son type). L’API demandée porte seulement \n",
    "sur les champs `author`, `title`, `year`, `journal`, et `booktitle` (les autres champs \n",
    "peuvent donc être ignorés). On peut remarquer que pour une publication, soit le champ \n",
    "`journal`, soit le champ `booktitle` est défini (`booktitle` correspond au nom de la \n",
    "conférence dans laquelle est publié l’article, `journal` correspond à la revue scientifique dans \n",
    "laquelle est publié l’article)."
   ]
  },
  {
   "cell_type": "markdown",
   "id": "171094fb",
   "metadata": {},
   "source": [
    "Note: En raison de la quantité limitée de mémoire RAM disponible sur certains ordinateurs, il \n",
    "est possible de ne considérer que les publications des 5 dernières années (voire moins, mais \n",
    "ce paramètre doit pouvoir être modifié dans le code source)."
   ]
  },
  {
   "cell_type": "markdown",
   "id": "4e56c23b",
   "metadata": {},
   "source": [
    "**RAPPEL :** stackoverflow est votre ami... **Mais** si vous utilisez quelque chose que vous trouvez sur Internet, vous devez citer votre source **ET** ajouter des explications. Ne copiez pas des blocs de code entiers sans comprendre, sans expliquer, sans citer."
   ]
  },
  {
   "cell_type": "markdown",
   "id": "8dc481ff",
   "metadata": {},
   "source": [
    "# Exercice 1. Mise à disposition d’une API Web "
   ]
  },
  {
   "cell_type": "markdown",
   "id": "7f7e5948",
   "metadata": {},
   "source": [
    "Réaliser en Python et en utilisant la bibliothèque bottle un serveur Web qui implémente l’API \n",
    "Web suivante :\n",
    "- `/publications/{id}` : avec `id` l'identifiant d'une publication (à vous de choisir quels \n",
    "sont les identifiants), qui retourne la publication correspondante.\n",
    "- `/publications` : qui retourne par défaut les 100 premières publications. La valeur 100 \n",
    "peut être modifiée au moyen d’un paramètre d'url `limit`).\n",
    "- `/authors/{name}` : avec `name` le nom d'un auteur, qui retourne des informations \n",
    "concernant un auteur : nombres de publications dont il est co-auteur, nombre de co-auteurs.\n",
    "- `/authors/{name}/publications` : avec `name` le nom d'un auteur, qui liste les \n",
    "publications d'un auteur.\n",
    "- `/authors/{name}/coauthors` : avec `name` le nom d'un auteur, qui liste les co-auteurs \n",
    "d'un auteur.\n",
    "- `/search/authors/{searchString}` : avec `searchString` une chaine de caractères \n",
    "permettant de chercher un auteur. Cette route retourne la liste des auteurs dont le nom \n",
    "contient `searchString` (par exemple, /search/authors/w retourne la liste de tous les \n",
    "auteurs dont le nom contient un `w` ou un `W`). \n",
    "- `/search/publications/{searchString}`: avec `searchString` une chaine de \n",
    "caractères et qui retourne la liste des publications dont le titre contient `searchString`. La \n",
    "route accepte un paramètre d'url `filter` de la forme `key1:value1,key2:value2,...` \n",
    "afin d'affiner la recherche aux publications dont la clef `keyi` contient `valuei`. Ainsi, la \n",
    "recherche `/search/publications/robots?filter=author:Jean,journal:acm` \n",
    "doit retourner la liste des publications dont le titre contient `robots`, dont l'auteur contient \n",
    "`Jean` et publiées dans un journal contenant `acm`.\n",
    "- `/authors/{name_origin}/distance/{name_destination}` : avec `name_origin` \n",
    "et `name_destination` deux noms d’auteurs, qui retourne la distance de collaboration \n",
    "entre les deux auteurs nommés. Cette distance est définie comme la longueur du plus petit \n",
    "chemin `(name_origin, auth1, auth2, ..., authX, name_destination)`, où \n",
    "`name_origine` et `auth1` sont co-auteurs, `auth1` et `auth2` sont co-auteurs, ... et \n",
    "`authX` et `name_destination` sont co-auteurs. En particulier deux co-auteurs sont à \n",
    "distance 1. En plus de retourner la distance, la réponse doit contenir un plus court chemin \n",
    "entre les deux auteurs."
   ]
  },
  {
   "cell_type": "code",
   "execution_count": 54,
   "id": "86810dd4",
   "metadata": {},
   "outputs": [
    {
     "name": "stdout",
     "output_type": "stream",
     "text": [
      "Overwriting run_test.py\n"
     ]
    }
   ],
   "source": [
    "%%writefile run_test.py\n",
    "\n",
    "from bottle import *\n",
    "from re import *\n",
    "import xml.etree.ElementTree as ET\n",
    "from lxml import etree as ET\n",
    "\n",
    "\n",
    "file_name = \"dblp0.xml\"\n",
    "p = ET.XMLParser(recover=True)\n",
    "root = ET.parse(file_name, parser=p).getroot()\n",
    "\n",
    "@route('/publications/<id>', method=\"GET\")\n",
    "def publications_id(id):\n",
    "    compteur = 0\n",
    "    info = ''\n",
    "    for i in root.iter('title'):\n",
    "        if (id == i.text):\n",
    "            for j in root[compteur]:\n",
    "                info += j.tag + ': ' + j.text + \"<br/>\"\n",
    "            return info\n",
    "        compteur += 1\n",
    "    abort(404, \"Not found: '/publications/\" + id + \"'\")\n",
    "\n",
    "\n",
    "run(host='localhost', port=8080, debug = True)\n"
   ]
  },
  {
   "cell_type": "code",
   "execution_count": 55,
   "id": "28762f30",
   "metadata": {},
   "outputs": [],
   "source": [
    "!wt python run_test.py"
   ]
  },
  {
   "cell_type": "code",
   "execution_count": 56,
   "id": "984e62af",
   "metadata": {},
   "outputs": [
    {
     "name": "stdout",
     "output_type": "stream",
     "text": [
      "Overwriting test_file.py\n"
     ]
    }
   ],
   "source": [
    "%%writefile test_file.py\n",
    "\n",
    "\n",
    "from requests import *\n",
    "from json import *\n",
    "import pytest\n",
    "\n",
    "\n",
    "server_ip = \"localhost\"\n",
    "server_port = 8080\n",
    "\n",
    "\n",
    "def test_publications_id():\n",
    "    r = get(f\"http://{server_ip}:{server_port}/publications/Spectre%20Attacks:%20Exploiting%20Speculative%20Execution.\")\n",
    "    assert loads(r.text) == (\"author: Paul Kocher<br>author: Daniel Genkin<br>author: Daniel Gruss<br>author: Werner Haas 0004<br>author: Mike Hamburg<br>author: Moritz Lipp<br>author: Stefan Mangard<br>author: Thomas Prescher 0002<br>author: Michael Schwarz 0001<br>author: Yuval Yarom<br>title: Spectre Attacks: Exploiting Speculative Execution.<br>journal: meltdownattack.com<br>year: 2018<br>ee: https://spectreattack.com/spectre.pdf<br>\")\n"
   ]
  },
  {
   "cell_type": "code",
   "execution_count": 57,
   "id": "d6d10000",
   "metadata": {},
   "outputs": [
    {
     "name": "stdout",
     "output_type": "stream",
     "text": [
      "============================= test session starts =============================\n",
      "platform win32 -- Python 3.10.8, pytest-7.2.0, pluggy-1.0.0\n",
      "rootdir: c:\\Users\\33761\\Desktop\\M1\\Progres\\MP2\n",
      "collected 1 item\n",
      "\n",
      "test_file.py F                                                           [100%]\n",
      "\n",
      "================================== FAILURES ===================================\n",
      "____________________________ test_publications_id _____________________________\n",
      "\n",
      "    def test_publications_id():\n",
      "        r = get(f\"http://{server_ip}:{server_port}/publications/Spectre%20Attacks:%20Exploiting%20Speculative%20Execution.\")\n",
      ">       assert loads(r.text) == (\"author: Paul Kocher<br>author: Daniel Genkin<br>author: Daniel Gruss<br>author: Werner Haas 0004<br>author: Mike Hamburg<br>author: Moritz Lipp<br>author: Stefan Mangard<br>author: Thomas Prescher 0002<br>author: Michael Schwarz 0001<br>author: Yuval Yarom<br>title: Spectre Attacks: Exploiting Speculative Execution.<br>journal: meltdownattack.com<br>year: 2018<br>ee: https://spectreattack.com/spectre.pdf<br>\")\n",
      "\n",
      "test_file.py:14: \n",
      "_ _ _ _ _ _ _ _ _ _ _ _ _ _ _ _ _ _ _ _ _ _ _ _ _ _ _ _ _ _ _ _ _ _ _ _ _ _ _ _\n",
      "C:\\Program Files\\WindowsApps\\PythonSoftwareFoundation.Python.3.10_3.10.2288.0_x64__qbz5n2kfra8p0\\lib\\json\\__init__.py:346: in loads\n",
      "    return _default_decoder.decode(s)\n",
      "C:\\Program Files\\WindowsApps\\PythonSoftwareFoundation.Python.3.10_3.10.2288.0_x64__qbz5n2kfra8p0\\lib\\json\\decoder.py:337: in decode\n",
      "    obj, end = self.raw_decode(s, idx=_w(s, 0).end())\n",
      "_ _ _ _ _ _ _ _ _ _ _ _ _ _ _ _ _ _ _ _ _ _ _ _ _ _ _ _ _ _ _ _ _ _ _ _ _ _ _ _\n",
      "\n",
      "self = <json.decoder.JSONDecoder object at 0x0000023182A2A770>\n",
      "s = 'author: Paul Kocher<br/>author: Daniel Genkin<br/>author: Daniel Gruss<br/>author: Werner Haas 0004<br/>author: Mike ...eculative Execution.<br/>journal: meltdownattack.com<br/>year: 2018<br/>ee: https://spectreattack.com/spectre.pdf<br/>'\n",
      "idx = 0\n",
      "\n",
      "    def raw_decode(self, s, idx=0):\n",
      "        \"\"\"Decode a JSON document from ``s`` (a ``str`` beginning with\n",
      "        a JSON document) and return a 2-tuple of the Python\n",
      "        representation and the index in ``s`` where the document ended.\n",
      "    \n",
      "        This can be used to decode a JSON document from a string that may\n",
      "        have extraneous data at the end.\n",
      "    \n",
      "        \"\"\"\n",
      "        try:\n",
      "            obj, end = self.scan_once(s, idx)\n",
      "        except StopIteration as err:\n",
      ">           raise JSONDecodeError(\"Expecting value\", s, err.value) from None\n",
      "E           json.decoder.JSONDecodeError: Expecting value: line 1 column 1 (char 0)\n",
      "\n",
      "C:\\Program Files\\WindowsApps\\PythonSoftwareFoundation.Python.3.10_3.10.2288.0_x64__qbz5n2kfra8p0\\lib\\json\\decoder.py:355: JSONDecodeError\n",
      "=========================== short test summary info ===========================\n",
      "FAILED test_file.py::test_publications_id - json.decoder.JSONDecodeError: Exp...\n",
      "============================== 1 failed in 2.31s ==============================\n"
     ]
    }
   ],
   "source": [
    "!python -m pytest test_file.py"
   ]
  },
  {
   "cell_type": "code",
   "execution_count": null,
   "id": "3d9841eb",
   "metadata": {},
   "outputs": [],
   "source": [
    "%%writefile run_api_web.py\n",
    "\n",
    "from bottle import *\n",
    "from re import *\n",
    "import xml.etree.ElementTree as ET\n",
    "import xml.dom.pulldom as PD # For opening large XML files\n",
    "from lxml import etree as ET\n",
    "\n",
    "file_name = \"dblp.xml\"\n",
    "p = ET.XMLParser(recover=True)\n",
    "root = PD.parse(file_name)\n",
    "dict_list = []\n",
    "\n",
    "@route('/publications/<id>', method=\"GET\")\n",
    "def publications_id(id):\n",
    "    compteur = 0\n",
    "    info = ''\n",
    "    for i in root.iter('title'):\n",
    "        if (id == i.text):\n",
    "            for j in root[compteur]:\n",
    "                info += j.tag + ': ' + j.text + \"<br/>\"\n",
    "            return info\n",
    "        compteur += 1\n",
    "    abort(404, \"Not found: '/publications/\" + id + \"'\")\n",
    "\n",
    "\n",
    "run(host='localhost', port=2100, debug = True)\n"
   ]
  },
  {
   "cell_type": "code",
   "execution_count": null,
   "id": "f54f9946",
   "metadata": {},
   "outputs": [],
   "source": [
    "!wt python run_api_web.py"
   ]
  },
  {
   "cell_type": "markdown",
   "id": "42e95c32",
   "metadata": {},
   "source": [
    "L’API ainsi développée doit présenter les caractéristiques suivantes :\n",
    "- Toutes les erreurs doivent avoir le même format.\n",
    "- Chaque route doit être documentée, avec le format de retour, les erreurs possibles et une \n",
    "explications des paramètres.\n",
    "- Chaque route qui retourne une liste, doit retourner au maximum 100 éléments et accepter \n",
    "des paramètre d'URL `start` et `count` qui permettent d'afficher `count` éléments, à partir \n",
    "du `start`-ième élément. Par exemple: `/search/authors/*` doit retourner les 100 \n",
    "premiers auteurs, `/search/authors/*?start=100` affiche les 100 suivants, et `/\n",
    "search/authors/*?start=200&count=2` affiche les 2 éléments suivants.\n",
    "- Pour chaque route qui retourne une liste, les éléments retournés doivent pouvoir être triés \n",
    "par rapport à un champ donné dans un paramètre d'URL `order`. Par exemple: `/search/\n",
    "publications/*?order=journal` affiche les 100 premières publications triées dans \n",
    "l'ordre alphabétique du nom du journal dans lequel elles apparaissent."
   ]
  },
  {
   "cell_type": "markdown",
   "id": "e1e29ad3",
   "metadata": {},
   "source": [
    "# Exercice 2. Test unitaire d’une API Web "
   ]
  },
  {
   "cell_type": "markdown",
   "id": "a7110e2c",
   "metadata": {},
   "source": [
    "Réaliser en Python et en utilisant au choix la bibliothèque unittest ou la bibliothèque pytest un programme qui teste le bon \n",
    "fonctionnement de l'API Web développée à l'exercice 1."
   ]
  },
  {
   "cell_type": "markdown",
   "id": "2aa006cb",
   "metadata": {},
   "source": [
    "# Exercice 3. Site Web d’utilisation d’une API Web "
   ]
  },
  {
   "cell_type": "markdown",
   "id": "35e03c10",
   "metadata": {},
   "source": [
    "Réaliser en Python et en utilisant la bibliothèque bottle un serveur Web qui utilise l’API Web \n",
    "développée à l’exercice 1 pour proposer à l’utilisateur une interface Web graphique qui lui \n",
    "permette d’obtenir en entrant les informations pertinentes dans un formulaire Web : \n",
    "- la liste complète des publications et la liste complète des coauteurs d’un auteur, possiblement \n",
    "triées alphabétiquement. Cet auteur peut au préalable être recherché via une sous-séquence \n",
    "de caractères apparaissant dans son nom. \n",
    "- La distance entre deux auteurs. Ces auteurs peuvent au préalable être recherchés chacun \n",
    "via une sous-séquence de caractères apparaissant dans leur nom."
   ]
  }
 ],
 "metadata": {
  "kernelspec": {
   "display_name": "Python 3.10.8 64-bit (microsoft store)",
   "language": "python",
   "name": "python3"
  },
  "language_info": {
   "codemirror_mode": {
    "name": "ipython",
    "version": 3
   },
   "file_extension": ".py",
   "mimetype": "text/x-python",
   "name": "python",
   "nbconvert_exporter": "python",
   "pygments_lexer": "ipython3",
   "version": "3.10.8"
  },
  "toc": {
   "base_numbering": 1,
   "nav_menu": {},
   "number_sections": true,
   "sideBar": true,
   "skip_h1_title": true,
   "title_cell": "Table of Contents",
   "title_sidebar": "Contents",
   "toc_cell": false,
   "toc_position": {},
   "toc_section_display": true,
   "toc_window_display": false
  },
  "vscode": {
   "interpreter": {
    "hash": "0c3b3ae0f6df17c733c7979596f34d78fff64555f6bf0079b0bbdb12a77dfc3f"
   }
  }
 },
 "nbformat": 4,
 "nbformat_minor": 5
}
